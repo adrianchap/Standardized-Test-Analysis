{
 "cells": [
  {
   "cell_type": "markdown",
   "metadata": {},
   "source": [
    "<img src=\"http://imgur.com/1ZcRyrc.png\" style=\"float: left; margin: 20px; height: 55px\">\n",
    "\n",
    "# Project 1: Standardized Test Analysis"
   ]
  },
  {
   "cell_type": "markdown",
   "metadata": {},
   "source": [
    "--- \n",
    "# SAT State Participation Analysis, 2017-2019\n",
    "\n",
    "A review of US state participation data from 2017-2019 for the college review to determine strategies for investment and expansion of SAT adoption.\n",
    "\n",
    "\n",
    "---"
   ]
  },
  {
   "cell_type": "markdown",
   "metadata": {},
   "source": [
    "## Problem Statement"
   ]
  },
  {
   "cell_type": "markdown",
   "metadata": {},
   "source": [
    "Increasingly, many colleges are adopting new policies to make standardized testing optional for admittance.  Despite this challenge, the College Review has found fertal ground for the SAT positioning it as a more useful alternative to federally required Common Core tests, which have no utility whatsoever for college applications.\n",
    "\n",
    "This study aims to review state participation for the SAT over the past 3 years (2017-2019), and for the SAT's biggest compettetor, the ACTs. Specific reccomendations for investment and expansion opportunities as supported by the data are discussed.  "
   ]
  },
  {
   "cell_type": "markdown",
   "metadata": {},
   "source": [
    "### Contents:\n",
    "- [Background](#Background)\n",
    "- [Data Import & Cleaning](#Data-Import-and-Cleaning)\n",
    "- [Exploratory Data Analysis](#Exploratory-Data-Analysis)\n",
    "- [Data Visualization](#Visualize-the-Data)\n",
    "- [Conclusions and Recommendations](#Conclusions-and-Recommendations)"
   ]
  },
  {
   "cell_type": "markdown",
   "metadata": {},
   "source": [
    "## Background"
   ]
  },
  {
   "cell_type": "markdown",
   "metadata": {},
   "source": [
    "The SAT has a long standing reputation as a college preparadness test.  Amidst growing concerns that the standardized testing is a poor predictor of college success ([*source*](https://journals.sagepub.com/doi/full/10.3102/0013189X20902110)), many colleges have adopted policies that diminish the importance of standardized testing in the admitance review process .  Data from over 400 colleges used in this sudy revealed that only 6% of higher education institutions were requiring standardized test for the 2021 class year.\n",
    "\n",
    "The SAT and its major compettetor, the ACT, have both continued to find success with high school students for a slightly different purpose.  Under the Obama administration, standardized test for high school students became federally mandated as an attempt to have an objective measure of education delivery nation-wide ([*source*](https://www.nytimes.com/2016/04/06/us/act-and-sat-find-a-profitable-market-as-common-core-tests.html)).  While there is a federally funded option to fulfill this requirement, many states are choosing to continue or build upon existing relationships with the SAT or ACT to provide students with a test that may have more utility in the college application process.\n",
    "\n",
    "This study examines data from all 50 major US states pertaining to SAT and ACT participation and scores to determine the relative success of the SATs under this new business model. The study attempts to make reccomendations about specific states as candidates for investment opportunities as the SAT continues to expand its market share."
   ]
  },
  {
   "cell_type": "markdown",
   "metadata": {},
   "source": [
    "### Data Sources\n",
    "\n",
    "The data collected and use for this study are described below.\n",
    "\n",
    "* [`act_2017.csv`](./data/act_2017.csv): 2017 ACT Scores and Participation Rate by State\n",
    "* [`act_2018.csv`](./data/act_2018.csv): 2018 ACT Scores and Participation Rate by State\n",
    "* [`act_2019.csv`](./data/act_2019.csv): 2019 ACT Scores and Participation Rate by State\n",
    "* [`sat_2017.csv`](./data/sat_2017.csv): 2017 SAT Scores and Participation Rate by State\n",
    "* [`sat_2018.csv`](./data/sat_2018.csv): 2018 SAT Scores and Participation Rate by State\n",
    "* [`sat_2019.csv`](./data/sat_2019.csv): 2019 SAT Scores and Participation Rate by State\n",
    "* [`sat_act_by_college.csv`](./data/sat_act_by_college.csv): College Policies for SAT and SAT requirement for 2021"
   ]
  },
  {
   "cell_type": "markdown",
   "metadata": {},
   "source": [
    "### Outside Research"
   ]
  },
  {
   "cell_type": "markdown",
   "metadata": {},
   "source": [
    "In support of this study, 2 publications were consulted.  The first was a study released in early 2020 which demonstrated highschool GPA as a more successful predictor of college success than the ACT ([*source*](https://journals.sagepub.com/doi/full/10.3102/0013189X20902110)).\n",
    "\n",
    "The second was a New York Times article from 2016 documenting the recent changes to federally mandadted high school testing, and the pivots made by the providers of the SAT and ACT to accomidate this new environment [*source*](https://www.nytimes.com/2016/04/06/us/act-and-sat-find-a-profitable-market-as-common-core-tests.html))."
   ]
  },
  {
   "cell_type": "markdown",
   "metadata": {},
   "source": [
    "### Coding Challenges\n",
    "\n",
    "1. Manually calculate mean:\n",
    "\n",
    "    Write a function that takes in values and returns the mean of the values. Create a list of numbers that you test on your function to check to make sure your function works!\n",
    "    \n",
    "    *Note*: Do not use any mean methods built-in to any Python libraries to do this! This should be done without importing any additional libraries."
   ]
  },
  {
   "cell_type": "code",
   "execution_count": 94,
   "metadata": {},
   "outputs": [
    {
     "data": {
      "text/plain": [
       "15.0"
      ]
     },
     "execution_count": 94,
     "metadata": {},
     "output_type": "execute_result"
    }
   ],
   "source": [
    "# Code:\n",
    "num_list = [10, 15, 20]\n",
    "\n",
    "def get_mean(numbers):\n",
    "    return sum(numbers) / len(numbers)\n",
    "\n",
    "get_mean(num_list)"
   ]
  },
  {
   "cell_type": "markdown",
   "metadata": {},
   "source": [
    "2. Manually calculate standard deviation:\n",
    "\n",
    "    The formula for standard deviation is below:\n",
    "\n",
    "    $$\\sigma = \\sqrt{\\frac{1}{n}\\sum_{i=1}^n(x_i - \\mu)^2}$$\n",
    "\n",
    "    Where $x_i$ represents each value in the dataset, $\\mu$ represents the mean of all values in the dataset and $n$ represents the number of values in the dataset.\n",
    "\n",
    "    Write a function that takes in values and returns the standard deviation of the values using the formula above. Hint: use the function you wrote above to calculate the mean! Use the list of numbers you created above to test on your function.\n",
    "    \n",
    "    *Note*: Do not use any standard deviation methods built-in to any Python libraries to do this! This should be done without importing any additional libraries."
   ]
  },
  {
   "cell_type": "code",
   "execution_count": 95,
   "metadata": {},
   "outputs": [
    {
     "name": "stdout",
     "output_type": "stream",
     "text": [
      "4.08248290463863\n",
      "4.08248290463863\n"
     ]
    }
   ],
   "source": [
    "# Code:\n",
    "import numpy as np\n",
    "import math\n",
    "\n",
    "def get_sd(numbers):\n",
    "    mean_nums = get_mean(numbers)\n",
    "    dif_squared =[(x - mean_nums) ** 2 for x in numbers]\n",
    "    v = get_mean(dif_squared)\n",
    "    return v ** .5\n",
    "\n",
    "    \n",
    "\n",
    "print(get_sd(num_list))\n",
    "print(np.std(num_list))\n",
    "    "
   ]
  },
  {
   "cell_type": "markdown",
   "metadata": {},
   "source": [
    "3. Data cleaning function:\n",
    "    \n",
    "    Write a function that takes in a string that is a number and a percent symbol (ex. '50%', '30.5%', etc.) and converts this to a float that is the decimal approximation of the percent. For example, inputting '50%' in your function should return 0.5, '30.5%' should return 0.305, etc. Make sure to test your function to make sure it works!\n",
    "\n",
    "You will use these functions later on in the project!"
   ]
  },
  {
   "cell_type": "code",
   "execution_count": 96,
   "metadata": {},
   "outputs": [
    {
     "data": {
      "text/plain": [
       "0.5"
      ]
     },
     "execution_count": 96,
     "metadata": {},
     "output_type": "execute_result"
    }
   ],
   "source": [
    "# Code:\n",
    "percent_eg = '50%'\n",
    "\n",
    "def percent_clean(percent_str):\n",
    "    clean_chars = '%'\n",
    "    new_str = ''\n",
    "    for i, c in enumerate(percent_str):\n",
    "        if c not in clean_chars:\n",
    "            new_str += c\n",
    "    return float(new_str)/100\n",
    "\n",
    "percent_clean(percent_eg)"
   ]
  },
  {
   "cell_type": "markdown",
   "metadata": {},
   "source": [
    "--- \n",
    "# SAT State Participation Analysis, 2017-2019.\n",
    "\n",
    "\n",
    "\n",
    "---"
   ]
  },
  {
   "cell_type": "code",
   "execution_count": 97,
   "metadata": {},
   "outputs": [],
   "source": [
    "# Imports:\n",
    "import numpy as np\n",
    "import pandas as pd\n",
    "import matplotlib.pyplot as plt"
   ]
  },
  {
   "cell_type": "markdown",
   "metadata": {},
   "source": [
    "## Data Import and Cleaning"
   ]
  },
  {
   "cell_type": "markdown",
   "metadata": {
    "scrolled": false
   },
   "source": [
    " All data import and cleaning steps are carried out in the following notebooks:\n",
    "    col_import_clean.ipynb\n",
    "    sat_import_clean.ipynb\n",
    "    act_import_clean.ipynb\n",
    "    \n",
    "The resulting datasets used in this analysis are described below.\n",
    "\n",
    "* Participation: [`sat_act_participation.csv`](./data/sat_act_participation.csv): 2017, 2018, and 2019 SAT and ACT scores and participation rate by state\n"
   ]
  },
  {
   "cell_type": "markdown",
   "metadata": {},
   "source": [
    "### Data Dictionary\n",
    "\n",
    "The features used in analysis are described below:\n",
    "\n",
    "|Feature|Type|Dataset|Description|\n",
    "|---|---|---|---|\n",
    "|**state**|*string*|Participation|US State| \n",
    "|**participation_17_sat**|*float*|Participation|The percent of the state that participated in the SAT in 2017|\n",
    "|**participation_18_sat**|*float*|Participation|The percent of the state that participated in the SAT in 2018|\n",
    "|**participation_19_sat**|*float*|Participation|The percent of the state that participated in the SAT in 2019|\n",
    "|**participation_17_act**|*float*|Participation|The percent of the state that participated in the ACT in 2017|\n",
    "|**participation_18_act**|*float*|Participation|The percent of the state that participated in the ACT in 2018|\n",
    "|**participation_19_act**|*float*|Participation|The percent of the state that participated in the ACT in 2019|\n",
    "|**change_participation_sat**|*float*|Participation|The percentage point difference between state participation in SAT between 2017 and 2019|\n",
    "|**change_participation_act**|*float*|Participation|The percentage point difference between state participation in ACT between 2017 and 2019|\n"
   ]
  },
  {
   "cell_type": "markdown",
   "metadata": {},
   "source": [
    "## Exploratory Data Analysis\n"
   ]
  },
  {
   "cell_type": "code",
   "execution_count": 98,
   "metadata": {
    "scrolled": true
   },
   "outputs": [],
   "source": [
    "# Load required data\n",
    "participation = pd.read_csv('../data/sat_act_participation.csv')\n",
    "college = pd.read_csv('../data/col_satact.csv')"
   ]
  },
  {
   "cell_type": "code",
   "execution_count": 99,
   "metadata": {},
   "outputs": [
    {
     "data": {
      "text/plain": [
       "Yes         0.844444\n",
       "No          0.061728\n",
       "Yes (TB)    0.054321\n",
       "Yes*        0.034568\n",
       "Yes (TF)    0.004938\n",
       "Name: test_optional, dtype: float64"
      ]
     },
     "execution_count": 99,
     "metadata": {},
     "output_type": "execute_result"
    }
   ],
   "source": [
    "# Find % of colleges who still require SATs\n",
    "college.test_optional.value_counts('True')"
   ]
  },
  {
   "cell_type": "markdown",
   "metadata": {},
   "source": [
    "Only 6% of colleges in this study still require standardized testing"
   ]
  },
  {
   "cell_type": "code",
   "execution_count": 100,
   "metadata": {},
   "outputs": [
    {
     "data": {
      "text/html": [
       "<div>\n",
       "<style scoped>\n",
       "    .dataframe tbody tr th:only-of-type {\n",
       "        vertical-align: middle;\n",
       "    }\n",
       "\n",
       "    .dataframe tbody tr th {\n",
       "        vertical-align: top;\n",
       "    }\n",
       "\n",
       "    .dataframe thead th {\n",
       "        text-align: right;\n",
       "    }\n",
       "</style>\n",
       "<table border=\"1\" class=\"dataframe\">\n",
       "  <thead>\n",
       "    <tr style=\"text-align: right;\">\n",
       "      <th></th>\n",
       "      <th>participation_17_sat</th>\n",
       "      <th>participation_18_sat</th>\n",
       "      <th>participation_19_sat</th>\n",
       "      <th>participation_17_act</th>\n",
       "      <th>participation_18_act</th>\n",
       "      <th>participation_19_act</th>\n",
       "      <th>change_participation_sat</th>\n",
       "      <th>change_participation_act</th>\n",
       "    </tr>\n",
       "  </thead>\n",
       "  <tbody>\n",
       "    <tr>\n",
       "      <th>count</th>\n",
       "      <td>51.000000</td>\n",
       "      <td>51.000000</td>\n",
       "      <td>51.000000</td>\n",
       "      <td>51.000000</td>\n",
       "      <td>51.000000</td>\n",
       "      <td>51.000000</td>\n",
       "      <td>51.000000</td>\n",
       "      <td>51.000000</td>\n",
       "    </tr>\n",
       "    <tr>\n",
       "      <th>mean</th>\n",
       "      <td>0.398039</td>\n",
       "      <td>0.457451</td>\n",
       "      <td>0.490588</td>\n",
       "      <td>0.652549</td>\n",
       "      <td>0.617255</td>\n",
       "      <td>0.586667</td>\n",
       "      <td>0.092549</td>\n",
       "      <td>-0.065882</td>\n",
       "    </tr>\n",
       "    <tr>\n",
       "      <th>std</th>\n",
       "      <td>0.352766</td>\n",
       "      <td>0.373143</td>\n",
       "      <td>0.387476</td>\n",
       "      <td>0.321408</td>\n",
       "      <td>0.340371</td>\n",
       "      <td>0.345159</td>\n",
       "      <td>0.209331</td>\n",
       "      <td>0.147705</td>\n",
       "    </tr>\n",
       "    <tr>\n",
       "      <th>min</th>\n",
       "      <td>0.020000</td>\n",
       "      <td>0.020000</td>\n",
       "      <td>0.020000</td>\n",
       "      <td>0.080000</td>\n",
       "      <td>0.070000</td>\n",
       "      <td>0.060000</td>\n",
       "      <td>-0.060000</td>\n",
       "      <td>-0.730000</td>\n",
       "    </tr>\n",
       "    <tr>\n",
       "      <th>25%</th>\n",
       "      <td>0.040000</td>\n",
       "      <td>0.045000</td>\n",
       "      <td>0.055000</td>\n",
       "      <td>0.310000</td>\n",
       "      <td>0.285000</td>\n",
       "      <td>0.245000</td>\n",
       "      <td>0.000000</td>\n",
       "      <td>-0.090000</td>\n",
       "    </tr>\n",
       "    <tr>\n",
       "      <th>50%</th>\n",
       "      <td>0.380000</td>\n",
       "      <td>0.520000</td>\n",
       "      <td>0.540000</td>\n",
       "      <td>0.690000</td>\n",
       "      <td>0.660000</td>\n",
       "      <td>0.540000</td>\n",
       "      <td>0.030000</td>\n",
       "      <td>-0.050000</td>\n",
       "    </tr>\n",
       "    <tr>\n",
       "      <th>75%</th>\n",
       "      <td>0.660000</td>\n",
       "      <td>0.775000</td>\n",
       "      <td>0.820000</td>\n",
       "      <td>1.000000</td>\n",
       "      <td>1.000000</td>\n",
       "      <td>1.000000</td>\n",
       "      <td>0.075000</td>\n",
       "      <td>0.000000</td>\n",
       "    </tr>\n",
       "    <tr>\n",
       "      <th>max</th>\n",
       "      <td>1.000000</td>\n",
       "      <td>1.000000</td>\n",
       "      <td>1.000000</td>\n",
       "      <td>1.000000</td>\n",
       "      <td>1.000000</td>\n",
       "      <td>1.000000</td>\n",
       "      <td>0.910000</td>\n",
       "      <td>0.250000</td>\n",
       "    </tr>\n",
       "  </tbody>\n",
       "</table>\n",
       "</div>"
      ],
      "text/plain": [
       "       participation_17_sat  participation_18_sat  participation_19_sat  \\\n",
       "count             51.000000             51.000000             51.000000   \n",
       "mean               0.398039              0.457451              0.490588   \n",
       "std                0.352766              0.373143              0.387476   \n",
       "min                0.020000              0.020000              0.020000   \n",
       "25%                0.040000              0.045000              0.055000   \n",
       "50%                0.380000              0.520000              0.540000   \n",
       "75%                0.660000              0.775000              0.820000   \n",
       "max                1.000000              1.000000              1.000000   \n",
       "\n",
       "       participation_17_act  participation_18_act  participation_19_act  \\\n",
       "count             51.000000             51.000000             51.000000   \n",
       "mean               0.652549              0.617255              0.586667   \n",
       "std                0.321408              0.340371              0.345159   \n",
       "min                0.080000              0.070000              0.060000   \n",
       "25%                0.310000              0.285000              0.245000   \n",
       "50%                0.690000              0.660000              0.540000   \n",
       "75%                1.000000              1.000000              1.000000   \n",
       "max                1.000000              1.000000              1.000000   \n",
       "\n",
       "       change_participation_sat  change_participation_act  \n",
       "count                 51.000000                 51.000000  \n",
       "mean                   0.092549                 -0.065882  \n",
       "std                    0.209331                  0.147705  \n",
       "min                   -0.060000                 -0.730000  \n",
       "25%                    0.000000                 -0.090000  \n",
       "50%                    0.030000                 -0.050000  \n",
       "75%                    0.075000                  0.000000  \n",
       "max                    0.910000                  0.250000  "
      ]
     },
     "execution_count": 100,
     "metadata": {},
     "output_type": "execute_result"
    }
   ],
   "source": [
    "#1. Summary Statistics.\n",
    "participation.describe()"
   ]
  },
  {
   "cell_type": "code",
   "execution_count": 101,
   "metadata": {},
   "outputs": [
    {
     "data": {
      "text/plain": [
       "Index(['state', 'participation_17_sat', 'participation_18_sat',\n",
       "       'participation_19_sat', 'participation_17_act', 'participation_18_act',\n",
       "       'participation_19_act', 'change_participation_sat',\n",
       "       'change_participation_act'],\n",
       "      dtype='object')"
      ]
     },
     "execution_count": 101,
     "metadata": {},
     "output_type": "execute_result"
    }
   ],
   "source": [
    "# View columns\n",
    "participation.columns"
   ]
  },
  {
   "cell_type": "code",
   "execution_count": 102,
   "metadata": {},
   "outputs": [
    {
     "data": {
      "text/plain": [
       "{'participation_17_sat': 0.3492907076664507,\n",
       " 'participation_18_sat': 0.3694661922353942,\n",
       " 'participation_19_sat': 0.3836584048685726,\n",
       " 'participation_17_act': 0.3182417575123181,\n",
       " 'participation_18_act': 0.33701735820410317,\n",
       " 'participation_19_act': 0.3417582373703047,\n",
       " 'change_participation_sat': 0.20726835061269125,\n",
       " 'change_participation_act': 0.1462495378988944}"
      ]
     },
     "execution_count": 102,
     "metadata": {},
     "output_type": "execute_result"
    }
   ],
   "source": [
    "#Use a dictionary comprehension to apply the standard deviation function you create in part 1 to each numeric column in the dataframe. No loops.\n",
    "#Assign the output to variable sd as a dictionary where:\n",
    "#Each column name is now a key\n",
    "#That standard deviation of the column is the value\n",
    "#Example Output : {'ACT_Math': 120, 'ACT_Reading': 120, ...}\n",
    "\n",
    "{name: get_sd(participation[name]) for name in participation.columns if participation[name].dtype in [float, int]}"
   ]
  },
  {
   "cell_type": "markdown",
   "metadata": {},
   "source": [
    "Below we examine the data at a high level:"
   ]
  },
  {
   "cell_type": "code",
   "execution_count": 103,
   "metadata": {
    "scrolled": true
   },
   "outputs": [
    {
     "data": {
      "text/html": [
       "<div>\n",
       "<style scoped>\n",
       "    .dataframe tbody tr th:only-of-type {\n",
       "        vertical-align: middle;\n",
       "    }\n",
       "\n",
       "    .dataframe tbody tr th {\n",
       "        vertical-align: top;\n",
       "    }\n",
       "\n",
       "    .dataframe thead th {\n",
       "        text-align: right;\n",
       "    }\n",
       "</style>\n",
       "<table border=\"1\" class=\"dataframe\">\n",
       "  <thead>\n",
       "    <tr style=\"text-align: right;\">\n",
       "      <th></th>\n",
       "      <th>state</th>\n",
       "      <th>participation_17_sat</th>\n",
       "      <th>participation_18_sat</th>\n",
       "      <th>participation_19_sat</th>\n",
       "      <th>participation_17_act</th>\n",
       "      <th>participation_18_act</th>\n",
       "      <th>participation_19_act</th>\n",
       "      <th>change_participation_sat</th>\n",
       "      <th>change_participation_act</th>\n",
       "    </tr>\n",
       "  </thead>\n",
       "  <tbody>\n",
       "    <tr>\n",
       "      <th>39</th>\n",
       "      <td>Rhode Island</td>\n",
       "      <td>0.71</td>\n",
       "      <td>0.97</td>\n",
       "      <td>1.0</td>\n",
       "      <td>0.21</td>\n",
       "      <td>0.15</td>\n",
       "      <td>0.12</td>\n",
       "      <td>0.29</td>\n",
       "      <td>-0.09</td>\n",
       "    </tr>\n",
       "    <tr>\n",
       "      <th>13</th>\n",
       "      <td>Illinois</td>\n",
       "      <td>0.09</td>\n",
       "      <td>0.99</td>\n",
       "      <td>1.0</td>\n",
       "      <td>0.93</td>\n",
       "      <td>0.43</td>\n",
       "      <td>0.35</td>\n",
       "      <td>0.91</td>\n",
       "      <td>-0.58</td>\n",
       "    </tr>\n",
       "    <tr>\n",
       "      <th>22</th>\n",
       "      <td>Michigan</td>\n",
       "      <td>1.00</td>\n",
       "      <td>1.00</td>\n",
       "      <td>1.0</td>\n",
       "      <td>0.29</td>\n",
       "      <td>0.22</td>\n",
       "      <td>0.19</td>\n",
       "      <td>0.00</td>\n",
       "      <td>-0.10</td>\n",
       "    </tr>\n",
       "    <tr>\n",
       "      <th>5</th>\n",
       "      <td>Colorado</td>\n",
       "      <td>0.11</td>\n",
       "      <td>1.00</td>\n",
       "      <td>1.0</td>\n",
       "      <td>1.00</td>\n",
       "      <td>0.30</td>\n",
       "      <td>0.27</td>\n",
       "      <td>0.89</td>\n",
       "      <td>-0.73</td>\n",
       "    </tr>\n",
       "    <tr>\n",
       "      <th>6</th>\n",
       "      <td>Connecticut</td>\n",
       "      <td>1.00</td>\n",
       "      <td>1.00</td>\n",
       "      <td>1.0</td>\n",
       "      <td>0.31</td>\n",
       "      <td>0.26</td>\n",
       "      <td>0.22</td>\n",
       "      <td>0.00</td>\n",
       "      <td>-0.09</td>\n",
       "    </tr>\n",
       "  </tbody>\n",
       "</table>\n",
       "</div>"
      ],
      "text/plain": [
       "           state  participation_17_sat  participation_18_sat  \\\n",
       "39  Rhode Island                  0.71                  0.97   \n",
       "13      Illinois                  0.09                  0.99   \n",
       "22      Michigan                  1.00                  1.00   \n",
       "5       Colorado                  0.11                  1.00   \n",
       "6    Connecticut                  1.00                  1.00   \n",
       "\n",
       "    participation_19_sat  participation_17_act  participation_18_act  \\\n",
       "39                   1.0                  0.21                  0.15   \n",
       "13                   1.0                  0.93                  0.43   \n",
       "22                   1.0                  0.29                  0.22   \n",
       "5                    1.0                  1.00                  0.30   \n",
       "6                    1.0                  0.31                  0.26   \n",
       "\n",
       "    participation_19_act  change_participation_sat  change_participation_act  \n",
       "39                  0.12                      0.29                     -0.09  \n",
       "13                  0.35                      0.91                     -0.58  \n",
       "22                  0.19                      0.00                     -0.10  \n",
       "5                   0.27                      0.89                     -0.73  \n",
       "6                   0.22                      0.00                     -0.09  "
      ]
     },
     "execution_count": 103,
     "metadata": {},
     "output_type": "execute_result"
    }
   ],
   "source": [
    "#Which states have highest participation rates for 2019 SATs\n",
    "participation.sort_values('participation_19_sat', ascending=False).head()"
   ]
  },
  {
   "cell_type": "code",
   "execution_count": 104,
   "metadata": {
    "scrolled": true
   },
   "outputs": [
    {
     "data": {
      "text/html": [
       "<div>\n",
       "<style scoped>\n",
       "    .dataframe tbody tr th:only-of-type {\n",
       "        vertical-align: middle;\n",
       "    }\n",
       "\n",
       "    .dataframe tbody tr th {\n",
       "        vertical-align: top;\n",
       "    }\n",
       "\n",
       "    .dataframe thead th {\n",
       "        text-align: right;\n",
       "    }\n",
       "</style>\n",
       "<table border=\"1\" class=\"dataframe\">\n",
       "  <thead>\n",
       "    <tr style=\"text-align: right;\">\n",
       "      <th></th>\n",
       "      <th>state</th>\n",
       "      <th>participation_17_sat</th>\n",
       "      <th>participation_18_sat</th>\n",
       "      <th>participation_19_sat</th>\n",
       "      <th>participation_17_act</th>\n",
       "      <th>participation_18_act</th>\n",
       "      <th>participation_19_act</th>\n",
       "      <th>change_participation_sat</th>\n",
       "      <th>change_participation_act</th>\n",
       "    </tr>\n",
       "  </thead>\n",
       "  <tbody>\n",
       "    <tr>\n",
       "      <th>0</th>\n",
       "      <td>Alabama</td>\n",
       "      <td>0.05</td>\n",
       "      <td>0.06</td>\n",
       "      <td>0.07</td>\n",
       "      <td>1.0</td>\n",
       "      <td>1.0</td>\n",
       "      <td>1.0</td>\n",
       "      <td>0.02</td>\n",
       "      <td>0.0</td>\n",
       "    </tr>\n",
       "    <tr>\n",
       "      <th>17</th>\n",
       "      <td>Kentucky</td>\n",
       "      <td>0.04</td>\n",
       "      <td>0.04</td>\n",
       "      <td>0.04</td>\n",
       "      <td>1.0</td>\n",
       "      <td>1.0</td>\n",
       "      <td>1.0</td>\n",
       "      <td>0.00</td>\n",
       "      <td>0.0</td>\n",
       "    </tr>\n",
       "    <tr>\n",
       "      <th>49</th>\n",
       "      <td>Wisconsin</td>\n",
       "      <td>0.03</td>\n",
       "      <td>0.03</td>\n",
       "      <td>0.03</td>\n",
       "      <td>1.0</td>\n",
       "      <td>1.0</td>\n",
       "      <td>1.0</td>\n",
       "      <td>0.00</td>\n",
       "      <td>0.0</td>\n",
       "    </tr>\n",
       "    <tr>\n",
       "      <th>44</th>\n",
       "      <td>Utah</td>\n",
       "      <td>0.03</td>\n",
       "      <td>0.04</td>\n",
       "      <td>0.04</td>\n",
       "      <td>1.0</td>\n",
       "      <td>1.0</td>\n",
       "      <td>1.0</td>\n",
       "      <td>0.01</td>\n",
       "      <td>0.0</td>\n",
       "    </tr>\n",
       "    <tr>\n",
       "      <th>42</th>\n",
       "      <td>Tennessee</td>\n",
       "      <td>0.05</td>\n",
       "      <td>0.06</td>\n",
       "      <td>0.07</td>\n",
       "      <td>1.0</td>\n",
       "      <td>1.0</td>\n",
       "      <td>1.0</td>\n",
       "      <td>0.02</td>\n",
       "      <td>0.0</td>\n",
       "    </tr>\n",
       "  </tbody>\n",
       "</table>\n",
       "</div>"
      ],
      "text/plain": [
       "        state  participation_17_sat  participation_18_sat  \\\n",
       "0     Alabama                  0.05                  0.06   \n",
       "17   Kentucky                  0.04                  0.04   \n",
       "49  Wisconsin                  0.03                  0.03   \n",
       "44       Utah                  0.03                  0.04   \n",
       "42  Tennessee                  0.05                  0.06   \n",
       "\n",
       "    participation_19_sat  participation_17_act  participation_18_act  \\\n",
       "0                   0.07                   1.0                   1.0   \n",
       "17                  0.04                   1.0                   1.0   \n",
       "49                  0.03                   1.0                   1.0   \n",
       "44                  0.04                   1.0                   1.0   \n",
       "42                  0.07                   1.0                   1.0   \n",
       "\n",
       "    participation_19_act  change_participation_sat  change_participation_act  \n",
       "0                    1.0                      0.02                       0.0  \n",
       "17                   1.0                      0.00                       0.0  \n",
       "49                   1.0                      0.00                       0.0  \n",
       "44                   1.0                      0.01                       0.0  \n",
       "42                   1.0                      0.02                       0.0  "
      ]
     },
     "execution_count": 104,
     "metadata": {},
     "output_type": "execute_result"
    }
   ],
   "source": [
    "#Which states have highest participation rates for 2019 ACTs\n",
    "participation.sort_values('participation_19_act', ascending=False).head()"
   ]
  },
  {
   "cell_type": "code",
   "execution_count": 105,
   "metadata": {},
   "outputs": [
    {
     "data": {
      "text/html": [
       "<div>\n",
       "<style scoped>\n",
       "    .dataframe tbody tr th:only-of-type {\n",
       "        vertical-align: middle;\n",
       "    }\n",
       "\n",
       "    .dataframe tbody tr th {\n",
       "        vertical-align: top;\n",
       "    }\n",
       "\n",
       "    .dataframe thead th {\n",
       "        text-align: right;\n",
       "    }\n",
       "</style>\n",
       "<table border=\"1\" class=\"dataframe\">\n",
       "  <thead>\n",
       "    <tr style=\"text-align: right;\">\n",
       "      <th></th>\n",
       "      <th>state</th>\n",
       "      <th>participation_17_sat</th>\n",
       "      <th>participation_18_sat</th>\n",
       "      <th>participation_19_sat</th>\n",
       "      <th>participation_17_act</th>\n",
       "      <th>participation_18_act</th>\n",
       "      <th>participation_19_act</th>\n",
       "      <th>change_participation_sat</th>\n",
       "      <th>change_participation_act</th>\n",
       "    </tr>\n",
       "  </thead>\n",
       "  <tbody>\n",
       "    <tr>\n",
       "      <th>13</th>\n",
       "      <td>Illinois</td>\n",
       "      <td>0.09</td>\n",
       "      <td>0.99</td>\n",
       "      <td>1.00</td>\n",
       "      <td>0.93</td>\n",
       "      <td>0.43</td>\n",
       "      <td>0.35</td>\n",
       "      <td>0.91</td>\n",
       "      <td>-0.58</td>\n",
       "    </tr>\n",
       "    <tr>\n",
       "      <th>5</th>\n",
       "      <td>Colorado</td>\n",
       "      <td>0.11</td>\n",
       "      <td>1.00</td>\n",
       "      <td>1.00</td>\n",
       "      <td>1.00</td>\n",
       "      <td>0.30</td>\n",
       "      <td>0.27</td>\n",
       "      <td>0.89</td>\n",
       "      <td>-0.73</td>\n",
       "    </tr>\n",
       "    <tr>\n",
       "      <th>48</th>\n",
       "      <td>West Virginia</td>\n",
       "      <td>0.14</td>\n",
       "      <td>0.28</td>\n",
       "      <td>0.99</td>\n",
       "      <td>0.69</td>\n",
       "      <td>0.65</td>\n",
       "      <td>0.49</td>\n",
       "      <td>0.85</td>\n",
       "      <td>-0.20</td>\n",
       "    </tr>\n",
       "    <tr>\n",
       "      <th>39</th>\n",
       "      <td>Rhode Island</td>\n",
       "      <td>0.71</td>\n",
       "      <td>0.97</td>\n",
       "      <td>1.00</td>\n",
       "      <td>0.21</td>\n",
       "      <td>0.15</td>\n",
       "      <td>0.12</td>\n",
       "      <td>0.29</td>\n",
       "      <td>-0.09</td>\n",
       "    </tr>\n",
       "    <tr>\n",
       "      <th>40</th>\n",
       "      <td>South Carolina</td>\n",
       "      <td>0.50</td>\n",
       "      <td>0.55</td>\n",
       "      <td>0.68</td>\n",
       "      <td>1.00</td>\n",
       "      <td>1.00</td>\n",
       "      <td>0.78</td>\n",
       "      <td>0.18</td>\n",
       "      <td>-0.22</td>\n",
       "    </tr>\n",
       "  </tbody>\n",
       "</table>\n",
       "</div>"
      ],
      "text/plain": [
       "             state  participation_17_sat  participation_18_sat  \\\n",
       "13        Illinois                  0.09                  0.99   \n",
       "5         Colorado                  0.11                  1.00   \n",
       "48   West Virginia                  0.14                  0.28   \n",
       "39    Rhode Island                  0.71                  0.97   \n",
       "40  South Carolina                  0.50                  0.55   \n",
       "\n",
       "    participation_19_sat  participation_17_act  participation_18_act  \\\n",
       "13                  1.00                  0.93                  0.43   \n",
       "5                   1.00                  1.00                  0.30   \n",
       "48                  0.99                  0.69                  0.65   \n",
       "39                  1.00                  0.21                  0.15   \n",
       "40                  0.68                  1.00                  1.00   \n",
       "\n",
       "    participation_19_act  change_participation_sat  change_participation_act  \n",
       "13                  0.35                      0.91                     -0.58  \n",
       "5                   0.27                      0.89                     -0.73  \n",
       "48                  0.49                      0.85                     -0.20  \n",
       "39                  0.12                      0.29                     -0.09  \n",
       "40                  0.78                      0.18                     -0.22  "
      ]
     },
     "execution_count": 105,
     "metadata": {},
     "output_type": "execute_result"
    }
   ],
   "source": [
    "# Which states have increased the most in SAT participation\n",
    "participation.sort_values('change_participation_sat', ascending=False).head()"
   ]
  },
  {
   "cell_type": "code",
   "execution_count": 106,
   "metadata": {},
   "outputs": [
    {
     "data": {
      "text/html": [
       "<div>\n",
       "<style scoped>\n",
       "    .dataframe tbody tr th:only-of-type {\n",
       "        vertical-align: middle;\n",
       "    }\n",
       "\n",
       "    .dataframe tbody tr th {\n",
       "        vertical-align: top;\n",
       "    }\n",
       "\n",
       "    .dataframe thead th {\n",
       "        text-align: right;\n",
       "    }\n",
       "</style>\n",
       "<table border=\"1\" class=\"dataframe\">\n",
       "  <thead>\n",
       "    <tr style=\"text-align: right;\">\n",
       "      <th></th>\n",
       "      <th>state</th>\n",
       "      <th>participation_17_sat</th>\n",
       "      <th>participation_18_sat</th>\n",
       "      <th>participation_19_sat</th>\n",
       "      <th>participation_17_act</th>\n",
       "      <th>participation_18_act</th>\n",
       "      <th>participation_19_act</th>\n",
       "      <th>change_participation_sat</th>\n",
       "      <th>change_participation_act</th>\n",
       "    </tr>\n",
       "  </thead>\n",
       "  <tbody>\n",
       "    <tr>\n",
       "      <th>8</th>\n",
       "      <td>District of Columbia</td>\n",
       "      <td>1.00</td>\n",
       "      <td>0.92</td>\n",
       "      <td>0.94</td>\n",
       "      <td>0.32</td>\n",
       "      <td>0.32</td>\n",
       "      <td>0.32</td>\n",
       "      <td>-0.06</td>\n",
       "      <td>0.00</td>\n",
       "    </tr>\n",
       "    <tr>\n",
       "      <th>28</th>\n",
       "      <td>Nevada</td>\n",
       "      <td>0.26</td>\n",
       "      <td>0.23</td>\n",
       "      <td>0.20</td>\n",
       "      <td>1.00</td>\n",
       "      <td>1.00</td>\n",
       "      <td>1.00</td>\n",
       "      <td>-0.06</td>\n",
       "      <td>0.00</td>\n",
       "    </tr>\n",
       "    <tr>\n",
       "      <th>11</th>\n",
       "      <td>Hawaii</td>\n",
       "      <td>0.55</td>\n",
       "      <td>0.56</td>\n",
       "      <td>0.54</td>\n",
       "      <td>0.90</td>\n",
       "      <td>0.89</td>\n",
       "      <td>0.80</td>\n",
       "      <td>-0.01</td>\n",
       "      <td>-0.10</td>\n",
       "    </tr>\n",
       "    <tr>\n",
       "      <th>29</th>\n",
       "      <td>New Hampshire</td>\n",
       "      <td>0.96</td>\n",
       "      <td>0.96</td>\n",
       "      <td>0.95</td>\n",
       "      <td>0.18</td>\n",
       "      <td>0.16</td>\n",
       "      <td>0.14</td>\n",
       "      <td>-0.01</td>\n",
       "      <td>-0.04</td>\n",
       "    </tr>\n",
       "    <tr>\n",
       "      <th>26</th>\n",
       "      <td>Montana</td>\n",
       "      <td>0.10</td>\n",
       "      <td>0.10</td>\n",
       "      <td>0.09</td>\n",
       "      <td>1.00</td>\n",
       "      <td>1.00</td>\n",
       "      <td>1.00</td>\n",
       "      <td>-0.01</td>\n",
       "      <td>0.00</td>\n",
       "    </tr>\n",
       "  </tbody>\n",
       "</table>\n",
       "</div>"
      ],
      "text/plain": [
       "                   state  participation_17_sat  participation_18_sat  \\\n",
       "8   District of Columbia                  1.00                  0.92   \n",
       "28                Nevada                  0.26                  0.23   \n",
       "11                Hawaii                  0.55                  0.56   \n",
       "29         New Hampshire                  0.96                  0.96   \n",
       "26               Montana                  0.10                  0.10   \n",
       "\n",
       "    participation_19_sat  participation_17_act  participation_18_act  \\\n",
       "8                   0.94                  0.32                  0.32   \n",
       "28                  0.20                  1.00                  1.00   \n",
       "11                  0.54                  0.90                  0.89   \n",
       "29                  0.95                  0.18                  0.16   \n",
       "26                  0.09                  1.00                  1.00   \n",
       "\n",
       "    participation_19_act  change_participation_sat  change_participation_act  \n",
       "8                   0.32                     -0.06                      0.00  \n",
       "28                  1.00                     -0.06                      0.00  \n",
       "11                  0.80                     -0.01                     -0.10  \n",
       "29                  0.14                     -0.01                     -0.04  \n",
       "26                  1.00                     -0.01                      0.00  "
      ]
     },
     "execution_count": 106,
     "metadata": {},
     "output_type": "execute_result"
    }
   ],
   "source": [
    "# Which states have decreased the most in participation\n",
    "participation.sort_values('change_participation_sat', ascending=True).head()"
   ]
  },
  {
   "cell_type": "code",
   "execution_count": 107,
   "metadata": {},
   "outputs": [
    {
     "data": {
      "text/html": [
       "<div>\n",
       "<style scoped>\n",
       "    .dataframe tbody tr th:only-of-type {\n",
       "        vertical-align: middle;\n",
       "    }\n",
       "\n",
       "    .dataframe tbody tr th {\n",
       "        vertical-align: top;\n",
       "    }\n",
       "\n",
       "    .dataframe thead th {\n",
       "        text-align: right;\n",
       "    }\n",
       "</style>\n",
       "<table border=\"1\" class=\"dataframe\">\n",
       "  <thead>\n",
       "    <tr style=\"text-align: right;\">\n",
       "      <th></th>\n",
       "      <th>state</th>\n",
       "      <th>participation_17_sat</th>\n",
       "      <th>participation_18_sat</th>\n",
       "      <th>participation_19_sat</th>\n",
       "      <th>participation_17_act</th>\n",
       "      <th>participation_18_act</th>\n",
       "      <th>participation_19_act</th>\n",
       "      <th>change_participation_sat</th>\n",
       "      <th>change_participation_act</th>\n",
       "    </tr>\n",
       "  </thead>\n",
       "  <tbody>\n",
       "    <tr>\n",
       "      <th>35</th>\n",
       "      <td>Ohio</td>\n",
       "      <td>0.12</td>\n",
       "      <td>0.08</td>\n",
       "      <td>0.19</td>\n",
       "      <td>0.75</td>\n",
       "      <td>1.00</td>\n",
       "      <td>1.00</td>\n",
       "      <td>0.07</td>\n",
       "      <td>0.25</td>\n",
       "    </tr>\n",
       "    <tr>\n",
       "      <th>27</th>\n",
       "      <td>Nebraska</td>\n",
       "      <td>0.03</td>\n",
       "      <td>0.03</td>\n",
       "      <td>0.03</td>\n",
       "      <td>0.84</td>\n",
       "      <td>1.00</td>\n",
       "      <td>1.00</td>\n",
       "      <td>0.00</td>\n",
       "      <td>0.16</td>\n",
       "    </tr>\n",
       "    <tr>\n",
       "      <th>2</th>\n",
       "      <td>Arizona</td>\n",
       "      <td>0.30</td>\n",
       "      <td>0.29</td>\n",
       "      <td>0.31</td>\n",
       "      <td>0.62</td>\n",
       "      <td>0.66</td>\n",
       "      <td>0.73</td>\n",
       "      <td>0.01</td>\n",
       "      <td>0.11</td>\n",
       "    </tr>\n",
       "    <tr>\n",
       "      <th>37</th>\n",
       "      <td>Oregon</td>\n",
       "      <td>0.43</td>\n",
       "      <td>0.48</td>\n",
       "      <td>0.51</td>\n",
       "      <td>0.40</td>\n",
       "      <td>0.42</td>\n",
       "      <td>0.42</td>\n",
       "      <td>0.08</td>\n",
       "      <td>0.02</td>\n",
       "    </tr>\n",
       "    <tr>\n",
       "      <th>0</th>\n",
       "      <td>Alabama</td>\n",
       "      <td>0.05</td>\n",
       "      <td>0.06</td>\n",
       "      <td>0.07</td>\n",
       "      <td>1.00</td>\n",
       "      <td>1.00</td>\n",
       "      <td>1.00</td>\n",
       "      <td>0.02</td>\n",
       "      <td>0.00</td>\n",
       "    </tr>\n",
       "  </tbody>\n",
       "</table>\n",
       "</div>"
      ],
      "text/plain": [
       "       state  participation_17_sat  participation_18_sat  \\\n",
       "35      Ohio                  0.12                  0.08   \n",
       "27  Nebraska                  0.03                  0.03   \n",
       "2    Arizona                  0.30                  0.29   \n",
       "37    Oregon                  0.43                  0.48   \n",
       "0    Alabama                  0.05                  0.06   \n",
       "\n",
       "    participation_19_sat  participation_17_act  participation_18_act  \\\n",
       "35                  0.19                  0.75                  1.00   \n",
       "27                  0.03                  0.84                  1.00   \n",
       "2                   0.31                  0.62                  0.66   \n",
       "37                  0.51                  0.40                  0.42   \n",
       "0                   0.07                  1.00                  1.00   \n",
       "\n",
       "    participation_19_act  change_participation_sat  change_participation_act  \n",
       "35                  1.00                      0.07                      0.25  \n",
       "27                  1.00                      0.00                      0.16  \n",
       "2                   0.73                      0.01                      0.11  \n",
       "37                  0.42                      0.08                      0.02  \n",
       "0                   1.00                      0.02                      0.00  "
      ]
     },
     "execution_count": 107,
     "metadata": {},
     "output_type": "execute_result"
    }
   ],
   "source": [
    "# Which states have increased the most in ACT participation\n",
    "participation.sort_values('change_participation_act', ascending=False).head()"
   ]
  },
  {
   "cell_type": "code",
   "execution_count": 108,
   "metadata": {},
   "outputs": [
    {
     "data": {
      "text/html": [
       "<div>\n",
       "<style scoped>\n",
       "    .dataframe tbody tr th:only-of-type {\n",
       "        vertical-align: middle;\n",
       "    }\n",
       "\n",
       "    .dataframe tbody tr th {\n",
       "        vertical-align: top;\n",
       "    }\n",
       "\n",
       "    .dataframe thead th {\n",
       "        text-align: right;\n",
       "    }\n",
       "</style>\n",
       "<table border=\"1\" class=\"dataframe\">\n",
       "  <thead>\n",
       "    <tr style=\"text-align: right;\">\n",
       "      <th></th>\n",
       "      <th>state</th>\n",
       "      <th>participation_17_sat</th>\n",
       "      <th>participation_18_sat</th>\n",
       "      <th>participation_19_sat</th>\n",
       "      <th>participation_17_act</th>\n",
       "      <th>participation_18_act</th>\n",
       "      <th>participation_19_act</th>\n",
       "      <th>change_participation_sat</th>\n",
       "      <th>change_participation_act</th>\n",
       "    </tr>\n",
       "  </thead>\n",
       "  <tbody>\n",
       "    <tr>\n",
       "      <th>5</th>\n",
       "      <td>Colorado</td>\n",
       "      <td>0.11</td>\n",
       "      <td>1.00</td>\n",
       "      <td>1.00</td>\n",
       "      <td>1.00</td>\n",
       "      <td>0.30</td>\n",
       "      <td>0.27</td>\n",
       "      <td>0.89</td>\n",
       "      <td>-0.73</td>\n",
       "    </tr>\n",
       "    <tr>\n",
       "      <th>13</th>\n",
       "      <td>Illinois</td>\n",
       "      <td>0.09</td>\n",
       "      <td>0.99</td>\n",
       "      <td>1.00</td>\n",
       "      <td>0.93</td>\n",
       "      <td>0.43</td>\n",
       "      <td>0.35</td>\n",
       "      <td>0.91</td>\n",
       "      <td>-0.58</td>\n",
       "    </tr>\n",
       "    <tr>\n",
       "      <th>1</th>\n",
       "      <td>Alaska</td>\n",
       "      <td>0.38</td>\n",
       "      <td>0.43</td>\n",
       "      <td>0.41</td>\n",
       "      <td>0.65</td>\n",
       "      <td>0.33</td>\n",
       "      <td>0.38</td>\n",
       "      <td>0.03</td>\n",
       "      <td>-0.27</td>\n",
       "    </tr>\n",
       "    <tr>\n",
       "      <th>40</th>\n",
       "      <td>South Carolina</td>\n",
       "      <td>0.50</td>\n",
       "      <td>0.55</td>\n",
       "      <td>0.68</td>\n",
       "      <td>1.00</td>\n",
       "      <td>1.00</td>\n",
       "      <td>0.78</td>\n",
       "      <td>0.18</td>\n",
       "      <td>-0.22</td>\n",
       "    </tr>\n",
       "    <tr>\n",
       "      <th>48</th>\n",
       "      <td>West Virginia</td>\n",
       "      <td>0.14</td>\n",
       "      <td>0.28</td>\n",
       "      <td>0.99</td>\n",
       "      <td>0.69</td>\n",
       "      <td>0.65</td>\n",
       "      <td>0.49</td>\n",
       "      <td>0.85</td>\n",
       "      <td>-0.20</td>\n",
       "    </tr>\n",
       "  </tbody>\n",
       "</table>\n",
       "</div>"
      ],
      "text/plain": [
       "             state  participation_17_sat  participation_18_sat  \\\n",
       "5         Colorado                  0.11                  1.00   \n",
       "13        Illinois                  0.09                  0.99   \n",
       "1           Alaska                  0.38                  0.43   \n",
       "40  South Carolina                  0.50                  0.55   \n",
       "48   West Virginia                  0.14                  0.28   \n",
       "\n",
       "    participation_19_sat  participation_17_act  participation_18_act  \\\n",
       "5                   1.00                  1.00                  0.30   \n",
       "13                  1.00                  0.93                  0.43   \n",
       "1                   0.41                  0.65                  0.33   \n",
       "40                  0.68                  1.00                  1.00   \n",
       "48                  0.99                  0.69                  0.65   \n",
       "\n",
       "    participation_19_act  change_participation_sat  change_participation_act  \n",
       "5                   0.27                      0.89                     -0.73  \n",
       "13                  0.35                      0.91                     -0.58  \n",
       "1                   0.38                      0.03                     -0.27  \n",
       "40                  0.78                      0.18                     -0.22  \n",
       "48                  0.49                      0.85                     -0.20  "
      ]
     },
     "execution_count": 108,
     "metadata": {},
     "output_type": "execute_result"
    }
   ],
   "source": [
    "# Which states have decreased the most in ACT participation\n",
    "participation.sort_values('change_participation_act').head()"
   ]
  },
  {
   "cell_type": "code",
   "execution_count": 109,
   "metadata": {},
   "outputs": [
    {
     "data": {
      "text/html": [
       "<div>\n",
       "<style scoped>\n",
       "    .dataframe tbody tr th:only-of-type {\n",
       "        vertical-align: middle;\n",
       "    }\n",
       "\n",
       "    .dataframe tbody tr th {\n",
       "        vertical-align: top;\n",
       "    }\n",
       "\n",
       "    .dataframe thead th {\n",
       "        text-align: right;\n",
       "    }\n",
       "</style>\n",
       "<table border=\"1\" class=\"dataframe\">\n",
       "  <thead>\n",
       "    <tr style=\"text-align: right;\">\n",
       "      <th></th>\n",
       "      <th>state</th>\n",
       "      <th>participation_17_sat</th>\n",
       "      <th>participation_18_sat</th>\n",
       "      <th>participation_19_sat</th>\n",
       "      <th>participation_17_act</th>\n",
       "      <th>participation_18_act</th>\n",
       "      <th>participation_19_act</th>\n",
       "      <th>change_participation_sat</th>\n",
       "      <th>change_participation_act</th>\n",
       "    </tr>\n",
       "  </thead>\n",
       "  <tbody>\n",
       "    <tr>\n",
       "      <th>9</th>\n",
       "      <td>Florida</td>\n",
       "      <td>0.83</td>\n",
       "      <td>0.56</td>\n",
       "      <td>1.00</td>\n",
       "      <td>0.73</td>\n",
       "      <td>0.66</td>\n",
       "      <td>0.54</td>\n",
       "      <td>0.17</td>\n",
       "      <td>-0.19</td>\n",
       "    </tr>\n",
       "    <tr>\n",
       "      <th>11</th>\n",
       "      <td>Hawaii</td>\n",
       "      <td>0.55</td>\n",
       "      <td>0.56</td>\n",
       "      <td>0.54</td>\n",
       "      <td>0.90</td>\n",
       "      <td>0.89</td>\n",
       "      <td>0.80</td>\n",
       "      <td>-0.01</td>\n",
       "      <td>-0.10</td>\n",
       "    </tr>\n",
       "    <tr>\n",
       "      <th>33</th>\n",
       "      <td>North Carolina</td>\n",
       "      <td>0.49</td>\n",
       "      <td>0.52</td>\n",
       "      <td>0.51</td>\n",
       "      <td>1.00</td>\n",
       "      <td>1.00</td>\n",
       "      <td>1.00</td>\n",
       "      <td>0.02</td>\n",
       "      <td>0.00</td>\n",
       "    </tr>\n",
       "    <tr>\n",
       "      <th>40</th>\n",
       "      <td>South Carolina</td>\n",
       "      <td>0.50</td>\n",
       "      <td>0.55</td>\n",
       "      <td>0.68</td>\n",
       "      <td>1.00</td>\n",
       "      <td>1.00</td>\n",
       "      <td>0.78</td>\n",
       "      <td>0.18</td>\n",
       "      <td>-0.22</td>\n",
       "    </tr>\n",
       "  </tbody>\n",
       "</table>\n",
       "</div>"
      ],
      "text/plain": [
       "             state  participation_17_sat  participation_18_sat  \\\n",
       "9          Florida                  0.83                  0.56   \n",
       "11          Hawaii                  0.55                  0.56   \n",
       "33  North Carolina                  0.49                  0.52   \n",
       "40  South Carolina                  0.50                  0.55   \n",
       "\n",
       "    participation_19_sat  participation_17_act  participation_18_act  \\\n",
       "9                   1.00                  0.73                  0.66   \n",
       "11                  0.54                  0.90                  0.89   \n",
       "33                  0.51                  1.00                  1.00   \n",
       "40                  0.68                  1.00                  1.00   \n",
       "\n",
       "    participation_19_act  change_participation_sat  change_participation_act  \n",
       "9                   0.54                      0.17                     -0.19  \n",
       "11                  0.80                     -0.01                     -0.10  \n",
       "33                  1.00                      0.02                      0.00  \n",
       "40                  0.78                      0.18                     -0.22  "
      ]
     },
     "execution_count": 109,
     "metadata": {},
     "output_type": "execute_result"
    }
   ],
   "source": [
    "# States that have over 50% Participation in SAT and ACT\n",
    "participation[(participation['participation_19_sat'] > .5) & (participation['participation_19_act'] > .5)]"
   ]
  },
  {
   "cell_type": "markdown",
   "metadata": {},
   "source": [
    "## Findings from EDA:\n",
    "\n",
    "There are not many states with both high SAT and ACT adoption.  \n",
    "\n",
    "ACTs have more states with 100% adoption than the SATs and a higher overall mean state participation rate, but the SATs seem to have more states with postive changes in participation.  \n",
    "\n",
    "SAT was able to convert Colorado and Illinois from 100% ACT to 100% SAT over the past 3 years.\n",
    "Missouri has dropped from having 100% ACT participation.\n",
    "Oklahoma is increasing SAT participation rapidly while still at 100% ACT participation.\n",
    "\n",
    "The only state ACT has gotten to 100% participation over the past 3 years is Ohio.  SAT has Illinois, Colorodo, West Virginia, Rhode Island, and Florida.\n",
    "There is double digit growth in SAT adoption for Maryland, New York, New Jersey, California, and Georgia.\n",
    "\n",
    "South Carolina and Alaska are dropping in ACT participation rapidly.  ACT and SAT are now neck and neck for South Carolina.  Missouri, Michigan, Hawaii all have double digit drops in ACT participation.\n",
    "\n",
    "\n"
   ]
  },
  {
   "cell_type": "markdown",
   "metadata": {},
   "source": [
    "Below we isolate the states who are dominated by the SATs vs those who are dominated by ACT, and \"battleground\" states which do not yet have high participation for either test."
   ]
  },
  {
   "cell_type": "code",
   "execution_count": 110,
   "metadata": {},
   "outputs": [],
   "source": [
    "# States that aren't completely sold to ACT or SAT - BATTLEGROUNDS\n",
    "battlegrounds = participation[(participation['participation_19_sat'] < .9) & (participation['participation_19_act'] < .9)][['state', 'participation_19_sat', 'participation_19_act']]\n",
    "battlegrounds = battlegrounds.sort_values('participation_19_sat')"
   ]
  },
  {
   "cell_type": "code",
   "execution_count": 111,
   "metadata": {},
   "outputs": [
    {
     "data": {
      "text/html": [
       "<div>\n",
       "<style scoped>\n",
       "    .dataframe tbody tr th:only-of-type {\n",
       "        vertical-align: middle;\n",
       "    }\n",
       "\n",
       "    .dataframe tbody tr th {\n",
       "        vertical-align: top;\n",
       "    }\n",
       "\n",
       "    .dataframe thead th {\n",
       "        text-align: right;\n",
       "    }\n",
       "</style>\n",
       "<table border=\"1\" class=\"dataframe\">\n",
       "  <thead>\n",
       "    <tr style=\"text-align: right;\">\n",
       "      <th></th>\n",
       "      <th>state</th>\n",
       "      <th>change_participation_sat</th>\n",
       "    </tr>\n",
       "  </thead>\n",
       "  <tbody>\n",
       "    <tr>\n",
       "      <th>5</th>\n",
       "      <td>Colorado</td>\n",
       "      <td>0.89</td>\n",
       "    </tr>\n",
       "    <tr>\n",
       "      <th>6</th>\n",
       "      <td>Connecticut</td>\n",
       "      <td>0.00</td>\n",
       "    </tr>\n",
       "    <tr>\n",
       "      <th>7</th>\n",
       "      <td>Delaware</td>\n",
       "      <td>0.00</td>\n",
       "    </tr>\n",
       "    <tr>\n",
       "      <th>8</th>\n",
       "      <td>District of Columbia</td>\n",
       "      <td>-0.06</td>\n",
       "    </tr>\n",
       "    <tr>\n",
       "      <th>9</th>\n",
       "      <td>Florida</td>\n",
       "      <td>0.17</td>\n",
       "    </tr>\n",
       "    <tr>\n",
       "      <th>12</th>\n",
       "      <td>Idaho</td>\n",
       "      <td>0.07</td>\n",
       "    </tr>\n",
       "    <tr>\n",
       "      <th>13</th>\n",
       "      <td>Illinois</td>\n",
       "      <td>0.91</td>\n",
       "    </tr>\n",
       "    <tr>\n",
       "      <th>19</th>\n",
       "      <td>Maine</td>\n",
       "      <td>0.04</td>\n",
       "    </tr>\n",
       "    <tr>\n",
       "      <th>22</th>\n",
       "      <td>Michigan</td>\n",
       "      <td>0.00</td>\n",
       "    </tr>\n",
       "    <tr>\n",
       "      <th>29</th>\n",
       "      <td>New Hampshire</td>\n",
       "      <td>-0.01</td>\n",
       "    </tr>\n",
       "    <tr>\n",
       "      <th>39</th>\n",
       "      <td>Rhode Island</td>\n",
       "      <td>0.29</td>\n",
       "    </tr>\n",
       "    <tr>\n",
       "      <th>48</th>\n",
       "      <td>West Virginia</td>\n",
       "      <td>0.85</td>\n",
       "    </tr>\n",
       "  </tbody>\n",
       "</table>\n",
       "</div>"
      ],
      "text/plain": [
       "                   state  change_participation_sat\n",
       "5               Colorado                      0.89\n",
       "6            Connecticut                      0.00\n",
       "7               Delaware                      0.00\n",
       "8   District of Columbia                     -0.06\n",
       "9                Florida                      0.17\n",
       "12                 Idaho                      0.07\n",
       "13              Illinois                      0.91\n",
       "19                 Maine                      0.04\n",
       "22              Michigan                      0.00\n",
       "29         New Hampshire                     -0.01\n",
       "39          Rhode Island                      0.29\n",
       "48         West Virginia                      0.85"
      ]
     },
     "execution_count": 111,
     "metadata": {},
     "output_type": "execute_result"
    }
   ],
   "source": [
    "#States dominated by SAT\n",
    "sat_states = participation[(participation['participation_19_sat'] > .9)][['state', 'change_participation_sat']]\n",
    "sat_states.sort_values('change_participation_sat')\n",
    "sat_states"
   ]
  },
  {
   "cell_type": "code",
   "execution_count": 112,
   "metadata": {},
   "outputs": [
    {
     "data": {
      "text/html": [
       "<div>\n",
       "<style scoped>\n",
       "    .dataframe tbody tr th:only-of-type {\n",
       "        vertical-align: middle;\n",
       "    }\n",
       "\n",
       "    .dataframe tbody tr th {\n",
       "        vertical-align: top;\n",
       "    }\n",
       "\n",
       "    .dataframe thead th {\n",
       "        text-align: right;\n",
       "    }\n",
       "</style>\n",
       "<table border=\"1\" class=\"dataframe\">\n",
       "  <thead>\n",
       "    <tr style=\"text-align: right;\">\n",
       "      <th></th>\n",
       "      <th>state</th>\n",
       "      <th>participation_19_sat</th>\n",
       "    </tr>\n",
       "  </thead>\n",
       "  <tbody>\n",
       "    <tr>\n",
       "      <th>0</th>\n",
       "      <td>Alabama</td>\n",
       "      <td>0.07</td>\n",
       "    </tr>\n",
       "    <tr>\n",
       "      <th>3</th>\n",
       "      <td>Arkansas</td>\n",
       "      <td>0.06</td>\n",
       "    </tr>\n",
       "    <tr>\n",
       "      <th>17</th>\n",
       "      <td>Kentucky</td>\n",
       "      <td>0.04</td>\n",
       "    </tr>\n",
       "    <tr>\n",
       "      <th>18</th>\n",
       "      <td>Louisiana</td>\n",
       "      <td>0.05</td>\n",
       "    </tr>\n",
       "    <tr>\n",
       "      <th>23</th>\n",
       "      <td>Minnesota</td>\n",
       "      <td>0.04</td>\n",
       "    </tr>\n",
       "    <tr>\n",
       "      <th>24</th>\n",
       "      <td>Mississippi</td>\n",
       "      <td>0.03</td>\n",
       "    </tr>\n",
       "    <tr>\n",
       "      <th>26</th>\n",
       "      <td>Montana</td>\n",
       "      <td>0.09</td>\n",
       "    </tr>\n",
       "    <tr>\n",
       "      <th>27</th>\n",
       "      <td>Nebraska</td>\n",
       "      <td>0.03</td>\n",
       "    </tr>\n",
       "    <tr>\n",
       "      <th>28</th>\n",
       "      <td>Nevada</td>\n",
       "      <td>0.20</td>\n",
       "    </tr>\n",
       "    <tr>\n",
       "      <th>33</th>\n",
       "      <td>North Carolina</td>\n",
       "      <td>0.51</td>\n",
       "    </tr>\n",
       "    <tr>\n",
       "      <th>34</th>\n",
       "      <td>North Dakota</td>\n",
       "      <td>0.02</td>\n",
       "    </tr>\n",
       "    <tr>\n",
       "      <th>35</th>\n",
       "      <td>Ohio</td>\n",
       "      <td>0.19</td>\n",
       "    </tr>\n",
       "    <tr>\n",
       "      <th>36</th>\n",
       "      <td>Oklahoma</td>\n",
       "      <td>0.22</td>\n",
       "    </tr>\n",
       "    <tr>\n",
       "      <th>42</th>\n",
       "      <td>Tennessee</td>\n",
       "      <td>0.07</td>\n",
       "    </tr>\n",
       "    <tr>\n",
       "      <th>44</th>\n",
       "      <td>Utah</td>\n",
       "      <td>0.04</td>\n",
       "    </tr>\n",
       "    <tr>\n",
       "      <th>49</th>\n",
       "      <td>Wisconsin</td>\n",
       "      <td>0.03</td>\n",
       "    </tr>\n",
       "    <tr>\n",
       "      <th>50</th>\n",
       "      <td>Wyoming</td>\n",
       "      <td>0.03</td>\n",
       "    </tr>\n",
       "  </tbody>\n",
       "</table>\n",
       "</div>"
      ],
      "text/plain": [
       "             state  participation_19_sat\n",
       "0          Alabama                  0.07\n",
       "3         Arkansas                  0.06\n",
       "17        Kentucky                  0.04\n",
       "18       Louisiana                  0.05\n",
       "23       Minnesota                  0.04\n",
       "24     Mississippi                  0.03\n",
       "26         Montana                  0.09\n",
       "27        Nebraska                  0.03\n",
       "28          Nevada                  0.20\n",
       "33  North Carolina                  0.51\n",
       "34    North Dakota                  0.02\n",
       "35            Ohio                  0.19\n",
       "36        Oklahoma                  0.22\n",
       "42       Tennessee                  0.07\n",
       "44            Utah                  0.04\n",
       "49       Wisconsin                  0.03\n",
       "50         Wyoming                  0.03"
      ]
     },
     "execution_count": 112,
     "metadata": {},
     "output_type": "execute_result"
    }
   ],
   "source": [
    "# States dominated by ACT\n",
    "sat_states = participation[(participation['participation_19_act'] > .9)][['state', 'participation_19_sat']]\n",
    "sat_states"
   ]
  },
  {
   "cell_type": "code",
   "execution_count": 113,
   "metadata": {},
   "outputs": [
    {
     "name": "stdout",
     "output_type": "stream",
     "text": [
      "0.49058823529411766\n",
      "0.5866666666666667\n"
     ]
    }
   ],
   "source": [
    "# Find the average participation rates across states\n",
    "print(participation.participation_19_sat.mean())\n",
    "print(participation.participation_19_act.mean())"
   ]
  },
  {
   "cell_type": "code",
   "execution_count": 114,
   "metadata": {},
   "outputs": [
    {
     "name": "stdout",
     "output_type": "stream",
     "text": [
      "0.5195454545454546\n",
      "0.44863636363636367\n"
     ]
    }
   ],
   "source": [
    "# Find the average participation rates for battleground states only\n",
    "print(battlegrounds.participation_19_sat.mean())\n",
    "print(battlegrounds.participation_19_act.mean())"
   ]
  },
  {
   "cell_type": "code",
   "execution_count": 115,
   "metadata": {},
   "outputs": [
    {
     "name": "stdout",
     "output_type": "stream",
     "text": [
      "0.09254901960784313\n",
      "-0.06588235294117648\n"
     ]
    }
   ],
   "source": [
    "# Find the average mean change in participation for each score\n",
    "print(participation.change_participation_sat.mean())\n",
    "print(participation.change_participation_act.mean())"
   ]
  },
  {
   "cell_type": "markdown",
   "metadata": {},
   "source": [
    "While we saw higher mean state participation rate for the ACTs across all states, the SAT has a higher mean participation rate for \"battleground\" states"
   ]
  },
  {
   "cell_type": "markdown",
   "metadata": {},
   "source": [
    "## Data Visualization\n",
    "\n"
   ]
  },
  {
   "cell_type": "code",
   "execution_count": 116,
   "metadata": {},
   "outputs": [
    {
     "data": {
      "image/png": "[encoded data removed]",
      "text/plain": [
       "<Figure size 720x504 with 2 Axes>"
      ]
     },
     "metadata": {
      "needs_background": "light"
     },
     "output_type": "display_data"
    }
   ],
   "source": [
    "# Plot a heatmap of all numerical variables in dataset\n",
    "# This code is taken with minor modifications from https://seaborn.pydata.org/generated/seaborn.heatmap.html\n",
    "\n",
    "import matplotlib.pyplot as plt\n",
    "import seaborn as sns\n",
    "\n",
    "# Establish size of figure.\n",
    "plt.figure(figsize = (10,7))\n",
    "# Get correlation of variables.\n",
    "corr = participation.corr()\n",
    "# Set up mask to be \"True\" in the upper triangle.\n",
    "mask = np.zeros_like(corr)\n",
    "mask[np.triu_indices_from(mask)] = True\n",
    "\n",
    "# Plot our correlation heatmap, while masking the upper triangle to be white.\n",
    "sns.heatmap(corr, mask = mask, cmap = 'coolwarm', annot = True);"
   ]
  },
  {
   "cell_type": "markdown",
   "metadata": {},
   "source": [
    "Strong negative correlations between ACT and SAT participation indicate there is not much room for both tests to be viable within the same state."
   ]
  },
  {
   "cell_type": "code",
   "execution_count": 117,
   "metadata": {
    "scrolled": false
   },
   "outputs": [
    {
     "data": {
      "image/png": "[encoded data removed]",
      "text/plain": [
       "<Figure size 720x504 with 2 Axes>"
      ]
     },
     "metadata": {
      "needs_background": "light"
     },
     "output_type": "display_data"
    }
   ],
   "source": [
    "# Plot a histogram of SAT and ACT participation distribution\n",
    "\n",
    "\n",
    "# Establish figure size.\n",
    "plt.figure(figsize = (10,7))\n",
    "\n",
    "\n",
    "\n",
    "\n",
    "# We can create subplots, which allows us to have multiple subplots in the same plot.\n",
    "# plt.subplot(3, 1, 1) means we have 3 rows, 1 column, and are referencing plot 1.\n",
    "ax1 = plt.subplot(2, 1, 1)\n",
    "ax1.hist(participation['participation_19_sat'], color = 'dodgerblue')\n",
    "\n",
    "\n",
    "# plt.subplot(3, 1, 2) means we have 3 rows, 1 column, and are referencing plot 2.\n",
    "ax2 = plt.subplot(2, 1, 2, sharex=ax1)\n",
    "ax2.hist(participation['participation_19_act'], color = 'dimgray')\n",
    "\n",
    "#plt.title('Distribution of SAT and ACT State Participation Rates')\n",
    "ax1.title.set_text('Distribution of SAT State Participation Rates')\n",
    "ax2.title.set_text('Distribution of ACT State Participation Rates')\n",
    "\n",
    "\n",
    "plt.tight_layout(); # adds more space\n",
    "\n",
    "plt.savefig('../figs/satact_hist.png')"
   ]
  },
  {
   "cell_type": "markdown",
   "metadata": {},
   "source": [
    "The histogram shows the same pattern determined through EDA.  ACT has many states at 100% participation."
   ]
  },
  {
   "cell_type": "code",
   "execution_count": 118,
   "metadata": {},
   "outputs": [
    {
     "data": {
      "image/png": "[encoded data removed]",
      "text/plain": [
       "<Figure size 720x504 with 1 Axes>"
      ]
     },
     "metadata": {
      "needs_background": "light"
     },
     "output_type": "display_data"
    }
   ],
   "source": [
    "# Plot a scatterplot of SAT and ACT participation\n",
    "\n",
    "# Size\n",
    "plt.figure(figsize = (10,7))\n",
    "\n",
    "# Scatter plot\n",
    "plt.scatter(participation['participation_19_sat'], participation['participation_19_act'], color='dodgerblue')\n",
    "\n",
    "# Create a descriptive title\n",
    "plt.title('State Participation in SAT vs ACT')\n",
    "\n",
    "# Add axis labels\n",
    "plt.xlabel('State SAT Participation')\n",
    "plt.ylabel('State ACT Participation')\n",
    "\n",
    "plt.savefig('../figs/satact_scatter.png')"
   ]
  },
  {
   "cell_type": "markdown",
   "metadata": {},
   "source": [
    "Plotting ACT and SAT participation in a scatter plot shows more of the \"battleground\" states.  There are still a lot of states that have not committed completely to either test"
   ]
  },
  {
   "cell_type": "code",
   "execution_count": 119,
   "metadata": {
    "scrolled": true
   },
   "outputs": [
    {
     "data": {
      "text/html": [
       "<div>\n",
       "<style scoped>\n",
       "    .dataframe tbody tr th:only-of-type {\n",
       "        vertical-align: middle;\n",
       "    }\n",
       "\n",
       "    .dataframe tbody tr th {\n",
       "        vertical-align: top;\n",
       "    }\n",
       "\n",
       "    .dataframe thead th {\n",
       "        text-align: right;\n",
       "    }\n",
       "</style>\n",
       "<table border=\"1\" class=\"dataframe\">\n",
       "  <thead>\n",
       "    <tr style=\"text-align: right;\">\n",
       "      <th></th>\n",
       "      <th>state</th>\n",
       "      <th>participation_17_act</th>\n",
       "      <th>participation_18_act</th>\n",
       "      <th>participation_19_act</th>\n",
       "    </tr>\n",
       "  </thead>\n",
       "  <tbody>\n",
       "    <tr>\n",
       "      <th>5</th>\n",
       "      <td>Colorado</td>\n",
       "      <td>1.00</td>\n",
       "      <td>0.30</td>\n",
       "      <td>0.27</td>\n",
       "    </tr>\n",
       "    <tr>\n",
       "      <th>13</th>\n",
       "      <td>Illinois</td>\n",
       "      <td>0.93</td>\n",
       "      <td>0.43</td>\n",
       "      <td>0.35</td>\n",
       "    </tr>\n",
       "    <tr>\n",
       "      <th>1</th>\n",
       "      <td>Alaska</td>\n",
       "      <td>0.65</td>\n",
       "      <td>0.33</td>\n",
       "      <td>0.38</td>\n",
       "    </tr>\n",
       "    <tr>\n",
       "      <th>35</th>\n",
       "      <td>Ohio</td>\n",
       "      <td>0.75</td>\n",
       "      <td>1.00</td>\n",
       "      <td>1.00</td>\n",
       "    </tr>\n",
       "    <tr>\n",
       "      <th>40</th>\n",
       "      <td>South Carolina</td>\n",
       "      <td>1.00</td>\n",
       "      <td>1.00</td>\n",
       "      <td>0.78</td>\n",
       "    </tr>\n",
       "  </tbody>\n",
       "</table>\n",
       "</div>"
      ],
      "text/plain": [
       "             state  participation_17_act  participation_18_act  \\\n",
       "5         Colorado                  1.00                  0.30   \n",
       "13        Illinois                  0.93                  0.43   \n",
       "1           Alaska                  0.65                  0.33   \n",
       "35            Ohio                  0.75                  1.00   \n",
       "40  South Carolina                  1.00                  1.00   \n",
       "\n",
       "    participation_19_act  \n",
       "5                   0.27  \n",
       "13                  0.35  \n",
       "1                   0.38  \n",
       "35                  1.00  \n",
       "40                  0.78  "
      ]
     },
     "execution_count": 119,
     "metadata": {},
     "output_type": "execute_result"
    }
   ],
   "source": [
    "# Build dataframe with top 5 states with biggest movement in ACT participation, whether positive or negative\n",
    "participation['abs_act_change'] = abs(participation['change_participation_act'])\n",
    "movers_act = participation.sort_values('abs_act_change', ascending = False).head()\n",
    "movers_act = movers_act[['state', 'participation_17_act', 'participation_18_act', 'participation_19_act']]\n",
    "movers_act\n",
    "\n"
   ]
  },
  {
   "cell_type": "code",
   "execution_count": 120,
   "metadata": {},
   "outputs": [
    {
     "data": {
      "text/html": [
       "<div>\n",
       "<style scoped>\n",
       "    .dataframe tbody tr th:only-of-type {\n",
       "        vertical-align: middle;\n",
       "    }\n",
       "\n",
       "    .dataframe tbody tr th {\n",
       "        vertical-align: top;\n",
       "    }\n",
       "\n",
       "    .dataframe thead th {\n",
       "        text-align: right;\n",
       "    }\n",
       "</style>\n",
       "<table border=\"1\" class=\"dataframe\">\n",
       "  <thead>\n",
       "    <tr style=\"text-align: right;\">\n",
       "      <th>state</th>\n",
       "      <th>Colorado</th>\n",
       "      <th>Illinois</th>\n",
       "      <th>Alaska</th>\n",
       "      <th>Ohio</th>\n",
       "      <th>South Carolina</th>\n",
       "    </tr>\n",
       "  </thead>\n",
       "  <tbody>\n",
       "    <tr>\n",
       "      <th>participation_17_act</th>\n",
       "      <td>1.00</td>\n",
       "      <td>0.93</td>\n",
       "      <td>0.65</td>\n",
       "      <td>0.75</td>\n",
       "      <td>1.00</td>\n",
       "    </tr>\n",
       "    <tr>\n",
       "      <th>participation_18_act</th>\n",
       "      <td>0.30</td>\n",
       "      <td>0.43</td>\n",
       "      <td>0.33</td>\n",
       "      <td>1.00</td>\n",
       "      <td>1.00</td>\n",
       "    </tr>\n",
       "    <tr>\n",
       "      <th>participation_19_act</th>\n",
       "      <td>0.27</td>\n",
       "      <td>0.35</td>\n",
       "      <td>0.38</td>\n",
       "      <td>1.00</td>\n",
       "      <td>0.78</td>\n",
       "    </tr>\n",
       "  </tbody>\n",
       "</table>\n",
       "</div>"
      ],
      "text/plain": [
       "state                 Colorado  Illinois  Alaska  Ohio  South Carolina\n",
       "participation_17_act      1.00      0.93    0.65  0.75            1.00\n",
       "participation_18_act      0.30      0.43    0.33  1.00            1.00\n",
       "participation_19_act      0.27      0.35    0.38  1.00            0.78"
      ]
     },
     "execution_count": 120,
     "metadata": {},
     "output_type": "execute_result"
    }
   ],
   "source": [
    "# Remove the index and transpose dataframe\n",
    "movers_act = movers_act.set_index('state')\n",
    "movers_act = movers_act.T\n",
    "movers_act"
   ]
  },
  {
   "cell_type": "code",
   "execution_count": 121,
   "metadata": {},
   "outputs": [],
   "source": [
    "# Generate data over time\n",
    "dates = [2017, 2018, 2019]"
   ]
  },
  {
   "cell_type": "code",
   "execution_count": 122,
   "metadata": {
    "scrolled": true
   },
   "outputs": [
    {
     "data": {
      "image/png": "[encoded data removed]",
      "text/plain": [
       "<Figure size 1080x360 with 1 Axes>"
      ]
     },
     "metadata": {
      "needs_background": "light"
     },
     "output_type": "display_data"
    }
   ],
   "source": [
    "# Make a line graph of the top 5 States with largest movements in ACT participation\n",
    "\n",
    "# Size\n",
    "plt.figure(figsize = (15,5))\n",
    "\n",
    "# Line plot\n",
    "plt.plot(dates, movers_act.Colorado, color = 'C5')\n",
    "plt.plot(dates, movers_act.Illinois, color = 'C2')\n",
    "plt.plot(dates, movers_act.Alaska, color = 'C3')\n",
    "plt.plot(dates, movers_act.Ohio, color = 'C4')\n",
    "plt.plot(dates, movers_act['South Carolina'], color = 'C1')\n",
    "\n",
    "# Create a descriptive title\n",
    "plt.title('Top 5 Largest Changes in State ACT Participation')\n",
    "\n",
    "plt.legend(['Colorado', 'Illinois', 'Alaska', 'Ohio', 'South Carolina'], loc=3)\n",
    "\n",
    "\n",
    "# Add axis labels\n",
    "plt.ylabel('Participation Rate')\n",
    "\n",
    "plt.xticks(dates);\n",
    "\n",
    "plt.savefig('../figs/act_line.png')"
   ]
  },
  {
   "cell_type": "markdown",
   "metadata": {},
   "source": [
    "Of the top 5 states with the biggest swings in ACT participation over the 3 year period, only one was positive: Ohio.  The rest were very negative."
   ]
  },
  {
   "cell_type": "code",
   "execution_count": 123,
   "metadata": {},
   "outputs": [
    {
     "data": {
      "text/html": [
       "<div>\n",
       "<style scoped>\n",
       "    .dataframe tbody tr th:only-of-type {\n",
       "        vertical-align: middle;\n",
       "    }\n",
       "\n",
       "    .dataframe tbody tr th {\n",
       "        vertical-align: top;\n",
       "    }\n",
       "\n",
       "    .dataframe thead th {\n",
       "        text-align: right;\n",
       "    }\n",
       "</style>\n",
       "<table border=\"1\" class=\"dataframe\">\n",
       "  <thead>\n",
       "    <tr style=\"text-align: right;\">\n",
       "      <th></th>\n",
       "      <th>state</th>\n",
       "      <th>participation_17_sat</th>\n",
       "      <th>participation_18_sat</th>\n",
       "      <th>participation_19_sat</th>\n",
       "    </tr>\n",
       "  </thead>\n",
       "  <tbody>\n",
       "    <tr>\n",
       "      <th>13</th>\n",
       "      <td>Illinois</td>\n",
       "      <td>0.09</td>\n",
       "      <td>0.99</td>\n",
       "      <td>1.00</td>\n",
       "    </tr>\n",
       "    <tr>\n",
       "      <th>5</th>\n",
       "      <td>Colorado</td>\n",
       "      <td>0.11</td>\n",
       "      <td>1.00</td>\n",
       "      <td>1.00</td>\n",
       "    </tr>\n",
       "    <tr>\n",
       "      <th>48</th>\n",
       "      <td>West Virginia</td>\n",
       "      <td>0.14</td>\n",
       "      <td>0.28</td>\n",
       "      <td>0.99</td>\n",
       "    </tr>\n",
       "    <tr>\n",
       "      <th>39</th>\n",
       "      <td>Rhode Island</td>\n",
       "      <td>0.71</td>\n",
       "      <td>0.97</td>\n",
       "      <td>1.00</td>\n",
       "    </tr>\n",
       "    <tr>\n",
       "      <th>40</th>\n",
       "      <td>South Carolina</td>\n",
       "      <td>0.50</td>\n",
       "      <td>0.55</td>\n",
       "      <td>0.68</td>\n",
       "    </tr>\n",
       "  </tbody>\n",
       "</table>\n",
       "</div>"
      ],
      "text/plain": [
       "             state  participation_17_sat  participation_18_sat  \\\n",
       "13        Illinois                  0.09                  0.99   \n",
       "5         Colorado                  0.11                  1.00   \n",
       "48   West Virginia                  0.14                  0.28   \n",
       "39    Rhode Island                  0.71                  0.97   \n",
       "40  South Carolina                  0.50                  0.55   \n",
       "\n",
       "    participation_19_sat  \n",
       "13                  1.00  \n",
       "5                   1.00  \n",
       "48                  0.99  \n",
       "39                  1.00  \n",
       "40                  0.68  "
      ]
     },
     "execution_count": 123,
     "metadata": {},
     "output_type": "execute_result"
    }
   ],
   "source": [
    "# Build dataframe with top 5 states with biggest movement in SAT participation, whether positive or negative\n",
    "participation['abs_sat_change'] = abs(participation['change_participation_sat'])\n",
    "movers_sat = participation.sort_values('abs_sat_change', ascending = False).head()\n",
    "movers_sat = movers_sat[['state', 'participation_17_sat', 'participation_18_sat', 'participation_19_sat']]\n",
    "movers_sat"
   ]
  },
  {
   "cell_type": "code",
   "execution_count": 124,
   "metadata": {},
   "outputs": [
    {
     "data": {
      "text/html": [
       "<div>\n",
       "<style scoped>\n",
       "    .dataframe tbody tr th:only-of-type {\n",
       "        vertical-align: middle;\n",
       "    }\n",
       "\n",
       "    .dataframe tbody tr th {\n",
       "        vertical-align: top;\n",
       "    }\n",
       "\n",
       "    .dataframe thead th {\n",
       "        text-align: right;\n",
       "    }\n",
       "</style>\n",
       "<table border=\"1\" class=\"dataframe\">\n",
       "  <thead>\n",
       "    <tr style=\"text-align: right;\">\n",
       "      <th>state</th>\n",
       "      <th>Illinois</th>\n",
       "      <th>Colorado</th>\n",
       "      <th>West Virginia</th>\n",
       "      <th>Rhode Island</th>\n",
       "      <th>South Carolina</th>\n",
       "    </tr>\n",
       "  </thead>\n",
       "  <tbody>\n",
       "    <tr>\n",
       "      <th>participation_17_sat</th>\n",
       "      <td>0.09</td>\n",
       "      <td>0.11</td>\n",
       "      <td>0.14</td>\n",
       "      <td>0.71</td>\n",
       "      <td>0.50</td>\n",
       "    </tr>\n",
       "    <tr>\n",
       "      <th>participation_18_sat</th>\n",
       "      <td>0.99</td>\n",
       "      <td>1.00</td>\n",
       "      <td>0.28</td>\n",
       "      <td>0.97</td>\n",
       "      <td>0.55</td>\n",
       "    </tr>\n",
       "    <tr>\n",
       "      <th>participation_19_sat</th>\n",
       "      <td>1.00</td>\n",
       "      <td>1.00</td>\n",
       "      <td>0.99</td>\n",
       "      <td>1.00</td>\n",
       "      <td>0.68</td>\n",
       "    </tr>\n",
       "  </tbody>\n",
       "</table>\n",
       "</div>"
      ],
      "text/plain": [
       "state                 Illinois  Colorado  West Virginia  Rhode Island  \\\n",
       "participation_17_sat      0.09      0.11           0.14          0.71   \n",
       "participation_18_sat      0.99      1.00           0.28          0.97   \n",
       "participation_19_sat      1.00      1.00           0.99          1.00   \n",
       "\n",
       "state                 South Carolina  \n",
       "participation_17_sat            0.50  \n",
       "participation_18_sat            0.55  \n",
       "participation_19_sat            0.68  "
      ]
     },
     "execution_count": 124,
     "metadata": {},
     "output_type": "execute_result"
    }
   ],
   "source": [
    "# Remove the index and transpose dataframe\n",
    "movers_sat = movers_sat.set_index('state')\n",
    "movers_sat = movers_sat.T\n",
    "movers_sat"
   ]
  },
  {
   "cell_type": "code",
   "execution_count": 125,
   "metadata": {},
   "outputs": [
    {
     "data": {
      "image/png": "[encoded data removed]",
      "text/plain": [
       "<Figure size 1080x360 with 1 Axes>"
      ]
     },
     "metadata": {
      "needs_background": "light"
     },
     "output_type": "display_data"
    }
   ],
   "source": [
    "# Make a line graph of the top 5 States with largest movements in SAT participation\n",
    "\n",
    "# Size\n",
    "plt.figure(figsize = (15,5))\n",
    "\n",
    "# Line plot\n",
    "plt.plot(dates, movers_sat.Illinois, color = 'C6')\n",
    "plt.plot(dates, movers_sat['Colorado'], color = 'C7')\n",
    "plt.plot(dates, movers_sat['West Virginia'], color = 'C8')\n",
    "plt.plot(dates, movers_sat['Rhode Island'], color = 'C9')\n",
    "plt.plot(dates, movers_sat['South Carolina'], color = 'C10')\n",
    "\n",
    "# Create a descriptive title\n",
    "plt.title('Top 5 Largest Changes in State SAT Participation')\n",
    "\n",
    "# Add axis labels\n",
    "plt.ylabel('Participation Rate')\n",
    "\n",
    "plt.legend(['Illinois', 'Colorado', 'West Virgina', 'Rhode Island', 'South Carolina'], loc=4)\n",
    "\n",
    "\n",
    "plt.xticks(dates);\n",
    "plt.savefig('../figs/sat_line.png')"
   ]
  },
  {
   "cell_type": "markdown",
   "metadata": {},
   "source": [
    "Participation change is a much better story for the SATs with all 5 of their biggest movers trending positive."
   ]
  },
  {
   "cell_type": "code",
   "execution_count": 126,
   "metadata": {},
   "outputs": [
    {
     "data": {
      "image/png": "[encoded data removed]",
      "text/plain": [
       "<Figure size 1080x432 with 1 Axes>"
      ]
     },
     "metadata": {
      "needs_background": "light"
     },
     "output_type": "display_data"
    }
   ],
   "source": [
    "# Plot a bar chart showing participation for ACT and SAT for the states \n",
    "# who have not committed to requiring either test yet\n",
    "\n",
    "fig, ax = plt.subplots(figsize=(15, 6))\n",
    "x = np.arange(len(battlegrounds.state.unique()))\n",
    "bar_width = 0.4\n",
    "b1 = ax.bar(x, battlegrounds['participation_19_sat'],\n",
    "            width=bar_width, color='dodgerblue')\n",
    "b2 = ax.bar(x + bar_width, battlegrounds['participation_19_act'],\n",
    "            width=bar_width, color='dimgray')\n",
    "\n",
    "# Fix the x-axes.\n",
    "ax.set_xticks(x + bar_width / 2)\n",
    "ax.set_xticklabels(battlegrounds.state.unique())\n",
    "plt.xticks(rotation = 40);\n",
    "\n",
    "plt.title('SAT and ACT Participation by Non-Required States')\n",
    "\n",
    "\n",
    "plt.savefig('../figs/satact_bar.png')\n",
    "#http://localhost:8889/notebooks/2.02-lesson-data-visualization/starter-code.ipynb"
   ]
  },
  {
   "cell_type": "markdown",
   "metadata": {},
   "source": [
    "A bar plot of only the states that have not made a commitment to one test or the other shows that the SAT is more popular in undecided states."
   ]
  },
  {
   "cell_type": "markdown",
   "metadata": {},
   "source": [
    "## Conclusions and Recommendations"
   ]
  },
  {
   "cell_type": "markdown",
   "metadata": {},
   "source": [
    "Based on the data exploration presented above, there are 3 viable strategies that can be recommended for continued SAT expansion into states:\n",
    "\n",
    "1. Don't be afraid to try to take over ACT dominated states.  The SAT turned Illinois and Colorado from 100% ACT to 100% SAT in 3 years.  Missouri has already dropped the ACT requirement, and Oklahoma has seen a 15% rise in SAT participation despite still having an ACT requirement.  These two states could be great targets for expansion.\n",
    "2. Continue to capitalize on weakening ACT markets.  South Carolina has dropped 22% in ACT participation and SAT is close to becoming the preferred test.  Alaska has dropped 27%.  Missouri, Michigan and Hawaii also have double digit drops and could make excellent targets.\n",
    "3. Follow through with the momentum already established.  In addition to Illinois and Colorado, SAT has also pushed West Virginia, Rhode Island and Florida to 100% participation in 3 years.  ACT only gained one state, Ohio, over the same period. The SAT can follow through with double digit positive participation growth in large markets such as Maryland, New York, New Jersey, California, and Georgia to find continued success."
   ]
  },
  {
   "cell_type": "code",
   "execution_count": null,
   "metadata": {},
   "outputs": [],
   "source": []
  }
 ],
 "metadata": {
  "anaconda-cloud": {},
  "kernelspec": {
   "display_name": "Python 3",
   "language": "python",
   "name": "python3"
  },
  "language_info": {
   "codemirror_mode": {
    "name": "ipython",
    "version": 3
   },
   "file_extension": ".py",
   "mimetype": "text/x-python",
   "name": "python",
   "nbconvert_exporter": "python",
   "pygments_lexer": "ipython3",
   "version": "3.8.4"
  }
 },
 "nbformat": 4,
 "nbformat_minor": 4
}
