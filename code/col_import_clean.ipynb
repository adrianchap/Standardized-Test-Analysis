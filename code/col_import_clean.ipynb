{
 "cells": [
  {
   "cell_type": "code",
   "execution_count": null,
   "metadata": {},
   "outputs": [],
   "source": [
    "# Imports:\n",
    "import numpy as np\n",
    "import pandas as pd\n",
    "import matplotlib.pyplot as plt"
   ]
  },
  {
   "cell_type": "code",
   "execution_count": null,
   "metadata": {},
   "outputs": [],
   "source": [
    "# Load Data\n",
    "col_satact = pd.read_csv('../data/sat_act_by_college.csv')"
   ]
  },
  {
   "cell_type": "code",
   "execution_count": null,
   "metadata": {},
   "outputs": [],
   "source": [
    "# Code:\n",
    "# 1. Display the data: print the first 5 rows of each dataframe to your Jupyter notebook.\n",
    "col_satact.head()"
   ]
  },
  {
   "cell_type": "code",
   "execution_count": null,
   "metadata": {},
   "outputs": [],
   "source": [
    "# 2. Check for missing values.\n",
    "col_satact.isnull().sum()"
   ]
  },
  {
   "cell_type": "code",
   "execution_count": null,
   "metadata": {},
   "outputs": [],
   "source": [
    "col_satact['Applies to Class Year(s)'] = col_satact['Applies to Class Year(s)'].replace(np.nan, 'No Policy', regex=True)\n",
    "col_satact['Applies to Class Year(s)']"
   ]
  },
  {
   "cell_type": "code",
   "execution_count": null,
   "metadata": {},
   "outputs": [],
   "source": [
    "#3. Check for any obvious issues with the observations (keep in mind the minimum & maximum possible values for each test/subtest).\n",
    "col_satact.describe()"
   ]
  },
  {
   "cell_type": "code",
   "execution_count": null,
   "metadata": {},
   "outputs": [],
   "source": [
    "# 4. Fix any errors you identified in steps 2-3.\n",
    "\n",
    "# new data frame with split value columns \n",
    "new = col_satact[\"SAT Total 25th-75th Percentile\"].str.split(\"-\", n = 1, expand = True) \n",
    "  \n",
    "# making separate first name column from new data frame \n",
    "col_satact[\"sat_25\"]= new[0]\n",
    "  \n",
    "# making separate last name column from new data frame \n",
    "col_satact[\"sat_75\"]= new[1] \n",
    "\n",
    "# new data frame with split value columns \n",
    "new2 = col_satact[\"ACT Total 25th-75th Percentile\"].str.split(\"-\", n = 1, expand = True) \n",
    "  \n",
    "# making separate first name column from new data frame \n",
    "col_satact[\"act_25\"]= new2[0] \n",
    "  \n",
    "# making separate last name column from new data frame \n",
    "col_satact[\"act_75\"]= new2[1] \n",
    "  \n",
    "# Dropping old Name columns \n",
    "#col_sat.drop(columns =[\"SAT Total 25th-75th Percentile], inplace = True) \n",
    "#https://www.geeksforgeeks.org/python-pandas-split-strings-into-two-list-columns-using-str-split/"
   ]
  },
  {
   "cell_type": "code",
   "execution_count": null,
   "metadata": {},
   "outputs": [],
   "source": [
    "col_satact['sat_25'] = col_satact['sat_25'].str.extract('(\\d+\\.*\\d*)', expand=False)\n",
    "col_satact['sat_25'] = col_satact['sat_25'].astype(float)"
   ]
  },
  {
   "cell_type": "code",
   "execution_count": null,
   "metadata": {},
   "outputs": [],
   "source": [
    "#8. Drop unnecessary rows (if needed).\n",
    "col_satact = col_satact.drop(col_satact.index[(col_satact.sat_25 == '') | (col_satact.sat_25 == '-')])\n",
    "col_satact = col_satact.drop(col_satact.index[(col_satact.sat_75 == '') | (col_satact.sat_75 == '-')])\n",
    "col_satact = col_satact.drop(col_satact.index[(col_satact.act_25 == '') | (col_satact.act_25 == '-')])\n",
    "col_satact = col_satact.drop(col_satact.index[(col_satact.act_75 == '') | (col_satact.act_75 == '-')])\n"
   ]
  },
  {
   "cell_type": "code",
   "execution_count": null,
   "metadata": {},
   "outputs": [],
   "source": [
    "col_satact.to_csv('../data/test.csv')"
   ]
  },
  {
   "cell_type": "code",
   "execution_count": null,
   "metadata": {},
   "outputs": [],
   "source": [
    "# 5. Display the data types of each feature.\n",
    "col_satact.dtypes"
   ]
  },
  {
   "cell_type": "code",
   "execution_count": null,
   "metadata": {},
   "outputs": [],
   "source": [
    "#6. Fix any incorrect data types found in step 5.\n",
    "\n",
    "\n",
    "def percent_clean(percent_str):\n",
    "    clean_chars = '%'\n",
    "    new_str = ''\n",
    "    for i, c in enumerate(percent_str):\n",
    "        if c not in clean_chars:\n",
    "            new_str += c\n",
    "    return float(new_str)/100\n",
    "\n",
    "col_satact['Accept Rate'] = col_satact['Accept Rate'].map(percent_clean)\n"
   ]
  },
  {
   "cell_type": "code",
   "execution_count": null,
   "metadata": {},
   "outputs": [],
   "source": [
    "{c: c for c in col_satact.columns}"
   ]
  },
  {
   "cell_type": "code",
   "execution_count": null,
   "metadata": {},
   "outputs": [],
   "source": [
    "#7. Rename Columns.\n",
    "\n",
    "col_satact.rename(columns={\n",
    " 'School': 'school',\n",
    " 'Test Optional?': 'test_optional',\n",
    " 'Applies to Class Year(s)': 'applies_to_years',\n",
    " 'Policy Details': 'policy_details',\n",
    " 'Number of Applicants': 'num_applicants',\n",
    " 'Accept Rate': 'acceptance_rate',\n",
    " 'SAT Total 25th-75th Percentile': 'sat_percentile',\n",
    " 'ACT Total 25th-75th Percentile': 'act_percentile',\n",
    " 'sat_25': 'sat_25',\n",
    " 'sat_75': 'sat_75',\n",
    " 'act_25': 'act_25',\n",
    " 'act_75': 'act_75'}\n",
    " , inplace=True)\n",
    "\n",
    "col_satact.columns"
   ]
  },
  {
   "cell_type": "code",
   "execution_count": null,
   "metadata": {},
   "outputs": [],
   "source": [
    "#9. Merge dataframes that can be merged.\n",
    "#10. Perform any additional cleaning that you feel is necessary.\n",
    "#11. Save your cleaned and merged dataframes as csv files.\n",
    "col_satact.to_csv('../data/col_satact.csv', index = False)"
   ]
  },
  {
   "cell_type": "code",
   "execution_count": null,
   "metadata": {},
   "outputs": [],
   "source": []
  }
 ],
 "metadata": {
  "kernelspec": {
   "display_name": "Python 3",
   "language": "python",
   "name": "python3"
  },
  "language_info": {
   "codemirror_mode": {
    "name": "ipython",
    "version": 3
   },
   "file_extension": ".py",
   "mimetype": "text/x-python",
   "name": "python",
   "nbconvert_exporter": "python",
   "pygments_lexer": "ipython3",
   "version": "3.8.4"
  }
 },
 "nbformat": 4,
 "nbformat_minor": 4
}
